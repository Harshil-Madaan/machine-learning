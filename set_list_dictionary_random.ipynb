{
  "nbformat": 4,
  "nbformat_minor": 0,
  "metadata": {
    "colab": {
      "provenance": [],
      "authorship_tag": "ABX9TyPq0OV8JBVA/f5EnLvbod87",
      "include_colab_link": true
    },
    "kernelspec": {
      "name": "python3",
      "display_name": "Python 3"
    },
    "language_info": {
      "name": "python"
    }
  },
  "cells": [
    {
      "cell_type": "markdown",
      "metadata": {
        "id": "view-in-github",
        "colab_type": "text"
      },
      "source": [
        "<a href=\"https://colab.research.google.com/github/Harshil-Madaan/machine-learning/blob/main/set_list_dictionary_random.ipynb\" target=\"_parent\"><img src=\"https://colab.research.google.com/assets/colab-badge.svg\" alt=\"Open In Colab\"/></a>"
      ]
    },
    {
      "cell_type": "markdown",
      "source": [
        "ASSIGNMENT 1\n"
      ],
      "metadata": {
        "id": "aF4e9Iuwbeu7"
      }
    },
    {
      "cell_type": "markdown",
      "source": [
        "lists -->"
      ],
      "metadata": {
        "id": "yj_3iOrnbmeI"
      }
    },
    {
      "cell_type": "code",
      "execution_count": null,
      "metadata": {
        "colab": {
          "base_uri": "https://localhost:8080/"
        },
        "id": "IVA2-X0vOwHM",
        "outputId": "9aed8a7b-c17c-4cfb-b286-8801b45734cf"
      },
      "outputs": [
        {
          "output_type": "stream",
          "name": "stdout",
          "text": [
            "[11, 12, 13, 14]\n"
          ]
        }
      ],
      "source": [
        "L=[11,12,13,14]\n",
        "print(L)"
      ]
    },
    {
      "cell_type": "code",
      "source": [
        "L.append(50)\n",
        "L.append(60)\n",
        "print(L)"
      ],
      "metadata": {
        "colab": {
          "base_uri": "https://localhost:8080/"
        },
        "id": "0fMf_wvaSED5",
        "outputId": "6ea699e6-965f-4c72-d369-951dff5a6087"
      },
      "execution_count": null,
      "outputs": [
        {
          "output_type": "stream",
          "name": "stdout",
          "text": [
            "[11, 12, 13, 14, 50, 60, 50, 60, 50, 60]\n"
          ]
        }
      ]
    },
    {
      "cell_type": "code",
      "source": [
        "L = [11, 12, 13, 14]\n",
        "\n",
        "\n",
        "\n",
        "L.remove(11)\n",
        "L.remove(13)\n",
        "\n",
        "print(L)\n",
        "\n",
        "\n"
      ],
      "metadata": {
        "colab": {
          "base_uri": "https://localhost:8080/"
        },
        "id": "XREcGHf1SEOw",
        "outputId": "4e5adc6f-f26b-4293-d491-647dcd330895"
      },
      "execution_count": null,
      "outputs": [
        {
          "output_type": "stream",
          "name": "stdout",
          "text": [
            "[12, 14]\n"
          ]
        }
      ]
    },
    {
      "cell_type": "code",
      "source": [
        "L.sort()\n",
        "print(L)"
      ],
      "metadata": {
        "colab": {
          "base_uri": "https://localhost:8080/"
        },
        "id": "vXH0UpHsSER3",
        "outputId": "d1e077cf-6b8d-4d21-c3f3-a2d49f7c8594"
      },
      "execution_count": null,
      "outputs": [
        {
          "output_type": "stream",
          "name": "stdout",
          "text": [
            "[12, 14]\n"
          ]
        }
      ]
    },
    {
      "cell_type": "code",
      "source": [
        "L = [11, 12, 13, 14]\n",
        "\n",
        "L.sort(reverse=True)\n",
        "\n",
        "print(L)"
      ],
      "metadata": {
        "colab": {
          "base_uri": "https://localhost:8080/"
        },
        "id": "hptxr4fBSEUs",
        "outputId": "ff64762f-92ad-48f0-ad58-ea6c2b45cdbf"
      },
      "execution_count": null,
      "outputs": [
        {
          "output_type": "stream",
          "name": "stdout",
          "text": [
            "[14, 13, 12, 11]\n"
          ]
        }
      ]
    },
    {
      "cell_type": "code",
      "source": [
        "L = [11, 12, 13, 14]\n",
        "\n",
        "if 13 in L:\n",
        "  print(L.index(13))\n",
        "else:\n",
        "  print(\"13 not present\")\n",
        "\n"
      ],
      "metadata": {
        "colab": {
          "base_uri": "https://localhost:8080/"
        },
        "id": "9wjWblaGSEXw",
        "outputId": "8a6f0c0b-26c4-4f36-9a42-bcbe55f23a05"
      },
      "execution_count": null,
      "outputs": [
        {
          "output_type": "stream",
          "name": "stdout",
          "text": [
            "2\n"
          ]
        }
      ]
    },
    {
      "cell_type": "code",
      "source": [
        "L = [11, 12, 13, 14]\n",
        "count = len(L)\n",
        "print (count)"
      ],
      "metadata": {
        "colab": {
          "base_uri": "https://localhost:8080/"
        },
        "id": "vv0vfcr-SEZ5",
        "outputId": "49fd2fc7-1f74-4c11-fdfd-8f93a810e9d5"
      },
      "execution_count": null,
      "outputs": [
        {
          "output_type": "stream",
          "name": "stdout",
          "text": [
            "4\n"
          ]
        }
      ]
    },
    {
      "cell_type": "code",
      "source": [
        "L = [11, 12, 13, 14]\n",
        "a=sum(L)\n",
        "print(a)"
      ],
      "metadata": {
        "colab": {
          "base_uri": "https://localhost:8080/"
        },
        "id": "5Zi0SDB2VhNx",
        "outputId": "6f43c171-8759-4c9d-e31a-6f403c83219e"
      },
      "execution_count": null,
      "outputs": [
        {
          "output_type": "stream",
          "name": "stdout",
          "text": [
            "50\n"
          ]
        }
      ]
    },
    {
      "cell_type": "code",
      "source": [
        "L = [11, 12, 13, 14]\n",
        "sum_of_odd_numbers = 0\n",
        "\n",
        "for number in L:\n",
        "  if number%2 != 0:\n",
        "    sum_of_odd_numbers += number\n",
        "\n",
        "    print(f\"the sum of odd numbers in L is: {sum_of_odd_numbers}\")"
      ],
      "metadata": {
        "colab": {
          "base_uri": "https://localhost:8080/"
        },
        "id": "hNeYYtMGVqHk",
        "outputId": "a38646b4-16ba-4bd9-c23b-a13111e90f84"
      },
      "execution_count": null,
      "outputs": [
        {
          "output_type": "stream",
          "name": "stdout",
          "text": [
            "the sum of odd numbers in L is: 11\n",
            "the sum of odd numbers in L is: 24\n"
          ]
        }
      ]
    },
    {
      "cell_type": "code",
      "source": [
        "L = [11, 12, 13, 14]\n",
        "\n",
        "del L\n"
      ],
      "metadata": {
        "id": "_203Lro4WGG-"
      },
      "execution_count": null,
      "outputs": []
    },
    {
      "cell_type": "code",
      "source": [
        "D = {1:5.6,2:7.8,3:6.6,4:8.7,5:7.7}\n",
        "\n",
        "D[8]=8.8\n",
        "D.pop(2)\n",
        "\n",
        "print(D)"
      ],
      "metadata": {
        "colab": {
          "base_uri": "https://localhost:8080/"
        },
        "id": "jRZyLgWvXMcv",
        "outputId": "a352f7a4-e7cf-425b-98de-3d8c9f4a1a59"
      },
      "execution_count": null,
      "outputs": [
        {
          "output_type": "stream",
          "name": "stdout",
          "text": [
            "{1: 5.6, 3: 6.6, 4: 8.7, 5: 7.7, 8: 8.8}\n"
          ]
        }
      ]
    },
    {
      "cell_type": "code",
      "source": [
        "if 3 in D:\n",
        "  print(\"6 is present\")\n",
        "else:\n",
        "  print(\"not present\")"
      ],
      "metadata": {
        "colab": {
          "base_uri": "https://localhost:8080/"
        },
        "id": "I1MlNhdCXMZL",
        "outputId": "1994201f-2ef9-4575-f11d-6c19df4633d7"
      },
      "execution_count": null,
      "outputs": [
        {
          "output_type": "stream",
          "name": "stdout",
          "text": [
            "6 is present\n"
          ]
        }
      ]
    },
    {
      "cell_type": "code",
      "source": [
        "length=len(D)\n",
        "print(length)\n",
        "a=sum(D.values())\n",
        "print(a)"
      ],
      "metadata": {
        "colab": {
          "base_uri": "https://localhost:8080/"
        },
        "id": "ijiY3M8TXMT7",
        "outputId": "edacc255-7749-4998-9646-92bee6d2e961"
      },
      "execution_count": null,
      "outputs": [
        {
          "output_type": "stream",
          "name": "stdout",
          "text": [
            "5\n",
            "37.4\n"
          ]
        }
      ]
    },
    {
      "cell_type": "code",
      "source": [
        "D[3]=7.1\n",
        "print(D)"
      ],
      "metadata": {
        "colab": {
          "base_uri": "https://localhost:8080/"
        },
        "id": "ssQYMeiTsu3k",
        "outputId": "ae16c1ce-f8c0-44aa-e218-7b85d73fc992"
      },
      "execution_count": null,
      "outputs": [
        {
          "output_type": "stream",
          "name": "stdout",
          "text": [
            "{1: 5.6, 3: 7.1, 4: 8.7, 5: 7.7, 8: 8.8, '3': ['7.1']}\n"
          ]
        }
      ]
    },
    {
      "cell_type": "code",
      "source": [
        "D.clear()"
      ],
      "metadata": {
        "id": "tPJ9L64PtfnL"
      },
      "execution_count": null,
      "outputs": []
    },
    {
      "cell_type": "markdown",
      "source": [
        "sets-->Sets in Python are a built-in data type used to store collections of unique and unordered elements. Sets are defined using curly braces {} or the set() constructor. Here's a comprehensive overview of sets in Python:"
      ],
      "metadata": {
        "id": "9M7hDMibmvb7"
      }
    },
    {
      "cell_type": "markdown",
      "source": [
        "Sets do not allow duplicate elements; each element is unique within the set.\n",
        "If you try to add duplicate elements to a set, they will be ignored.\n"
      ],
      "metadata": {
        "id": "Q2SA13lCnNy9"
      }
    },
    {
      "cell_type": "code",
      "source": [
        "S1 = {10,20,30,40,50,60}\n",
        "S2 = {40,50,60,70,80,90}\n",
        "S1.add(55)\n",
        "S1.add(66)\n",
        "S1.remove(10)\n",
        "S1.remove(30)\n",
        "print(S1)"
      ],
      "metadata": {
        "id": "tyQpTClzFyrL",
        "colab": {
          "base_uri": "https://localhost:8080/"
        },
        "outputId": "4afef459-9b8f-4b91-cfe5-a53f5c810b64"
      },
      "execution_count": 4,
      "outputs": [
        {
          "output_type": "stream",
          "name": "stdout",
          "text": [
            "{50, 66, 20, 55, 40, 60}\n"
          ]
        }
      ]
    },
    {
      "cell_type": "code",
      "source": [
        "if 40 in S1:\n",
        "  print(\"present\")\n",
        "else:\n",
        "  print(\"not present\")"
      ],
      "metadata": {
        "id": "FZQp1OhkFyos",
        "colab": {
          "base_uri": "https://localhost:8080/"
        },
        "outputId": "239c2e74-b1b6-42fe-e4af-25acda087b22"
      },
      "execution_count": 3,
      "outputs": [
        {
          "output_type": "stream",
          "name": "stdout",
          "text": [
            "present\n"
          ]
        }
      ]
    },
    {
      "cell_type": "code",
      "source": [
        "union_of_set=S1.union(S2)\n",
        "print(union_of_set)"
      ],
      "metadata": {
        "id": "oslZJDNCFylu",
        "colab": {
          "base_uri": "https://localhost:8080/"
        },
        "outputId": "e9c6aee4-3fa8-449b-efff-a571e9be3af4"
      },
      "execution_count": 6,
      "outputs": [
        {
          "output_type": "stream",
          "name": "stdout",
          "text": [
            "{66, 70, 40, 80, 50, 20, 55, 90, 60}\n"
          ]
        }
      ]
    },
    {
      "cell_type": "code",
      "source": [
        "intersection_of_set=S1.intersection(S2)\n",
        "print(intersection_of_set)"
      ],
      "metadata": {
        "id": "_f3yzXfSFyjC",
        "colab": {
          "base_uri": "https://localhost:8080/"
        },
        "outputId": "862fceaa-cb51-4fdd-e776-01aca93d1268"
      },
      "execution_count": 8,
      "outputs": [
        {
          "output_type": "stream",
          "name": "stdout",
          "text": [
            "{40, 50, 60}\n"
          ]
        }
      ]
    },
    {
      "cell_type": "code",
      "source": [
        "difference_of_set=S1.difference(S2)\n",
        "print(difference_of_set)"
      ],
      "metadata": {
        "colab": {
          "base_uri": "https://localhost:8080/"
        },
        "id": "jjbkaDZMpeJX",
        "outputId": "42132d41-d108-42bc-84f7-238fcd0113e9"
      },
      "execution_count": 10,
      "outputs": [
        {
          "output_type": "stream",
          "name": "stdout",
          "text": [
            "{66, 20, 55}\n"
          ]
        }
      ]
    },
    {
      "cell_type": "code",
      "source": [
        "#WAP to print 100 random strings whose length between 6 and 8.\n",
        "#(ii) WAP to print all prime numbers between 600 and 800.\n",
        "#(iii) WAP to print all numbers between 100 and 1000 that are divisible by 7 and 9.\n",
        "\n",
        "\n",
        "import random\n",
        "import string\n",
        "\n",
        "# Generate and print 100 random strings with lengths between 6 and 8\n",
        "random_strings = [''.join(random.choice(string.ascii_letters + string.digits) for _ in range(random.randint(6, 8))) for _ in range(100)]\n",
        "\n",
        "for random_str in random_strings:\n",
        "    print(random_str)\n",
        "\n",
        "\n",
        "\n",
        "\n"
      ],
      "metadata": {
        "colab": {
          "base_uri": "https://localhost:8080/"
        },
        "id": "i4g7iGUZps1L",
        "outputId": "4d1e352c-331e-4f9c-912c-e2248903f39c"
      },
      "execution_count": 11,
      "outputs": [
        {
          "output_type": "stream",
          "name": "stdout",
          "text": [
            "wSpuSIM\n",
            "zIUup1\n",
            "K0EjUIa\n",
            "ohPT8W\n",
            "MU6TaqY\n",
            "RyOFcBW\n",
            "WP3at9mN\n",
            "VcEFTU\n",
            "OTmPF9D\n",
            "ukWh099R\n",
            "pbmvPZ\n",
            "yN9fnJN\n",
            "AqBthFN\n",
            "0DYR3j\n",
            "r01zTiD\n",
            "JQQjJ0J\n",
            "ZjPEIV\n",
            "B4oGYLNV\n",
            "NRDkHd\n",
            "VzNughQ\n",
            "pAPtQDl\n",
            "Tj0Zt5i\n",
            "WpS7xS\n",
            "TenBaqZN\n",
            "IfWLgj\n",
            "hMpOUy\n",
            "9qDQTTYJ\n",
            "S4QuXE\n",
            "YR3jlbi\n",
            "FQSLTrjF\n",
            "jQoZhiy\n",
            "f7XHD7Ut\n",
            "TjXNXl\n",
            "rvr5uR\n",
            "r3AQdm2U\n",
            "wpizcJ\n",
            "JkmVXF\n",
            "MVexZK7\n",
            "nzc5wfTS\n",
            "l8A5fj\n",
            "cClvEYh\n",
            "Rv7F0xN\n",
            "JVrwpy4h\n",
            "a0L0RVE\n",
            "iiQUrWKE\n",
            "idPNk6\n",
            "7EhCP4xr\n",
            "Ez5G3Mg\n",
            "14on9N\n",
            "1tf6Lvrx\n",
            "lmafeL\n",
            "3dODgQdR\n",
            "wsCRtQHk\n",
            "9ioiIif\n",
            "FXsH5d\n",
            "fKqPY1tx\n",
            "GDFpVE\n",
            "tfsC0Wtq\n",
            "1p20nB4k\n",
            "E9VgAH5\n",
            "wk5xd5h\n",
            "1TkAvz\n",
            "Hbcn7pSM\n",
            "jXuEl7GG\n",
            "v8SsJRUc\n",
            "bWeaTM\n",
            "1JJpTkW\n",
            "Lb1mnFB8\n",
            "Gh7QQg\n",
            "RActvrY\n",
            "cAcEVq6W\n",
            "2eilrMs\n",
            "vuMQ3Gd1\n",
            "FbQLA9O\n",
            "wPSuGa\n",
            "VjU5gaB\n",
            "8766tB\n",
            "N3iCIhz5\n",
            "uNzKK4\n",
            "ITRYm0\n",
            "JklV63h\n",
            "OAoebUj\n",
            "J8NpOpXe\n",
            "VojnxY49\n",
            "D0bFb2A\n",
            "ROvp0n\n",
            "TA51ucjF\n",
            "Jd5W5cRN\n",
            "LjCvHi\n",
            "dpOweXL\n",
            "daKKVx\n",
            "qHW3ugTo\n",
            "aF721OYv\n",
            "dWPAL0\n",
            "TEw5gvl\n",
            "x8BJsx\n",
            "N38LfMyF\n",
            "mQoHoKkh\n",
            "A4MsjSd\n",
            "Y6gcoz\n"
          ]
        }
      ]
    },
    {
      "cell_type": "code",
      "source": [
        "import random\n",
        "\n",
        "# Function to generate a list of 10 random numbers between 10 and 30\n",
        "def generate_random_list():\n",
        "    return [random.randint(10, 30) for _ in range(10)]\n",
        "\n",
        "# Generate two random lists\n",
        "list1 = generate_random_list()\n",
        "list2 = generate_random_list()\n",
        "\n",
        "# (i) Find Common Numbers in the Two Lists\n",
        "common_numbers = list(set(list1).intersection(list2))\n",
        "print(\"Common numbers in the two lists:\", common_numbers)\n",
        "\n",
        "# (ii) Find Unique Numbers in Both Lists\n",
        "unique_list1 = list(set(list1) - set(list2))\n",
        "unique_list2 = list(set(list2) - set(list1))\n",
        "print(\"Unique numbers in list 1:\", unique_list1)\n",
        "print(\"Unique numbers in list 2:\", unique_list2)\n",
        "\n",
        "# (iii) Find Minimum in Both Lists\n",
        "min_list1 = min(list1)\n",
        "min_list2 = min(list2)\n",
        "print(\"Minimum in list 1:\", min_list1)\n",
        "print(\"Minimum in list 2:\", min_list2)\n",
        "\n",
        "# (iv) Find Maximum in Both Lists\n",
        "max_list1 = max(list1)\n",
        "max_list2 = max(list2)\n",
        "print(\"Maximum in list 1:\", max_list1)\n",
        "print(\"Maximum in list 2:\", max_list2)\n",
        "\n",
        "# (v) Find the Sum of Both Lists\n",
        "sum_lists = sum(list1) + sum(list2)\n",
        "print(\"Sum of both lists:\", sum_lists)\n"
      ],
      "metadata": {
        "colab": {
          "base_uri": "https://localhost:8080/"
        },
        "id": "vM5gW1j9psxx",
        "outputId": "3ec7ee81-5a7e-4a5d-fadf-14cada13e68e"
      },
      "execution_count": 12,
      "outputs": [
        {
          "output_type": "stream",
          "name": "stdout",
          "text": [
            "Common numbers in the two lists: [12, 21, 22, 25, 27]\n",
            "Unique numbers in list 1: [18, 26, 20]\n",
            "Unique numbers in list 2: [24, 10, 11, 15]\n",
            "Minimum in list 1: 12\n",
            "Minimum in list 2: 10\n",
            "Maximum in list 1: 27\n",
            "Maximum in list 2: 27\n",
            "Sum of both lists: 395\n"
          ]
        }
      ]
    },
    {
      "cell_type": "code",
      "source": [
        "import random\n",
        "\n",
        "# Function to check if a number is prime\n",
        "def is_prime(num):\n",
        "    if num <= 1:\n",
        "        return False\n",
        "    if num <= 3:\n",
        "        return True\n",
        "    if num % 2 == 0 or num % 3 == 0:\n",
        "        return False\n",
        "    i = 5\n",
        "    while i * i <= num:\n",
        "        if num % i == 0 or num % (i + 2) == 0:\n",
        "            return False\n",
        "        i += 6\n",
        "    return True\n",
        "\n",
        "# Generate a list of 100 random numbers between 100 and 900\n",
        "random_numbers = [random.randint(100, 900) for _ in range(100)]\n",
        "\n",
        "# Initialize counters for odd, even, and prime numbers\n",
        "odd_count = 0\n",
        "even_count = 0\n",
        "prime_numbers = []\n",
        "\n",
        "# Count and categorize the numbers\n",
        "for num in random_numbers:\n",
        "    if num % 2 == 0:\n",
        "        even_count += 1\n",
        "    else:\n",
        "        odd_count += 1\n",
        "    if is_prime(num):\n",
        "        prime_numbers.append(num)\n",
        "\n",
        "# Print the results\n",
        "print(\"All odd numbers:\", odd_count)\n",
        "print(\"All even numbers:\", even_count)\n",
        "print(\"All prime numbers:\", prime_numbers)\n"
      ],
      "metadata": {
        "colab": {
          "base_uri": "https://localhost:8080/"
        },
        "id": "ywCZ0QnHpsvf",
        "outputId": "0578b0a9-238e-4f50-a6ae-ba59e10612c1"
      },
      "execution_count": 13,
      "outputs": [
        {
          "output_type": "stream",
          "name": "stdout",
          "text": [
            "All odd numbers: 56\n",
            "All even numbers: 44\n",
            "All prime numbers: [101, 631, 347, 677, 461, 683, 173, 619, 887, 317, 659, 397, 467, 383, 491, 461, 373, 769, 373, 607, 127, 569, 599, 101]\n"
          ]
        }
      ]
    }
  ]
}