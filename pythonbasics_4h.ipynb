{
  "nbformat": 4,
  "nbformat_minor": 0,
  "metadata": {
    "colab": {
      "provenance": [],
      "authorship_tag": "ABX9TyOGCzM37B246ZzBuErayymb",
      "include_colab_link": true
    },
    "kernelspec": {
      "name": "python3",
      "display_name": "Python 3"
    },
    "language_info": {
      "name": "python"
    }
  },
  "cells": [
    {
      "cell_type": "markdown",
      "metadata": {
        "id": "view-in-github",
        "colab_type": "text"
      },
      "source": [
        "<a href=\"https://colab.research.google.com/github/Harshil-Madaan/machine-learning/blob/main/pythonbasics_4h.ipynb\" target=\"_parent\"><img src=\"https://colab.research.google.com/assets/colab-badge.svg\" alt=\"Open In Colab\"/></a>"
      ]
    },
    {
      "cell_type": "code",
      "execution_count": null,
      "metadata": {
        "colab": {
          "base_uri": "https://localhost:8080/"
        },
        "id": "SKoqxBN8YcDe",
        "outputId": "776641ec-c2c9-4bef-b7e8-0a8723301fd0"
      },
      "outputs": [
        {
          "output_type": "stream",
          "name": "stdout",
          "text": [
            "enter a number5\n",
            "enter a number5\n",
            "10\n"
          ]
        }
      ],
      "source": [
        "#building a calculator\n",
        "num1=input(\"enter a number\")\n",
        "num2=input(\"enter a number\")\n",
        "result = float(num1)+float(num2)\n",
        "print(result)\n",
        "\n"
      ]
    },
    {
      "cell_type": "code",
      "source": [
        "#mad libs game\n",
        "#taking random words\n",
        "color=input(\"enter a color: \")\n",
        "print(\"roses are \" + color)"
      ],
      "metadata": {
        "colab": {
          "base_uri": "https://localhost:8080/"
        },
        "id": "0wXIEIRFyrsh",
        "outputId": "a724989e-2fbc-4ab8-e045-bd3eb02666bd"
      },
      "execution_count": null,
      "outputs": [
        {
          "output_type": "stream",
          "name": "stdout",
          "text": [
            "enter a color: red\n",
            "roses are red\n"
          ]
        }
      ]
    },
    {
      "cell_type": "code",
      "source": [
        "#lists\n",
        "\n",
        "friends = ['harshil','hia']\n",
        "print(friends[0])\n",
        "\n",
        "#list functions\n",
        "lucky_numbers=[1,2,3,4]\n",
        "friends.extend(lucky_numbers)\n",
        "friends.append('hiaaa')\n",
        "friends.insert\n",
        "friends.remove\n",
        "friends.index()\n",
        "lucky_numbers.sort()\n",
        "\n",
        "print(friends)"
      ],
      "metadata": {
        "colab": {
          "base_uri": "https://localhost:8080/"
        },
        "id": "puMSJTIVzk2K",
        "outputId": "f62ec34a-6d6a-4e04-d542-7bf9f04f40ca"
      },
      "execution_count": null,
      "outputs": [
        {
          "output_type": "stream",
          "name": "stdout",
          "text": [
            "harshil\n",
            "['harshil', 'hia', 1, 2, 3, 4, 'hiaaa']\n"
          ]
        }
      ]
    },
    {
      "cell_type": "code",
      "source": [
        "#tuples-container to store different values\n",
        "#key differences from lists: tuple cant be changed or modified\n",
        "coordinates = (4,5)\n",
        "#coordinates[1]=10 error!\n",
        "print(coordinates[0])\n",
        "\n",
        "\n",
        "\n"
      ],
      "metadata": {
        "colab": {
          "base_uri": "https://localhost:8080/"
        },
        "id": "E9_35zPL1Om5",
        "outputId": "52874d8a-d883-45e8-e0ce-1df0926e4a83"
      },
      "execution_count": null,
      "outputs": [
        {
          "output_type": "stream",
          "name": "stdout",
          "text": [
            "4\n"
          ]
        }
      ]
    },
    {
      "cell_type": "code",
      "source": [
        "#function in python-collection of code that performs some task\n",
        "\n",
        "def say_hello(name):\n",
        "  print(\"say hello \"+name)\n",
        "\n",
        "say_hello(\"harshil\")\n",
        "\n",
        "#return statement\n"
      ],
      "metadata": {
        "colab": {
          "base_uri": "https://localhost:8080/"
        },
        "id": "KYx9d2XJ29gI",
        "outputId": "c418b247-e857-4efb-fd5f-9c730f776f5c"
      },
      "execution_count": null,
      "outputs": [
        {
          "output_type": "stream",
          "name": "stdout",
          "text": [
            "say hello harshil\n"
          ]
        }
      ]
    },
    {
      "cell_type": "code",
      "source": [
        "def cube(num):\n",
        "  return num*num*num\n",
        "\n",
        "#return statement-breaks us out of function\n",
        "cube(3)\n",
        "result = cube(4)\n",
        "print(result)"
      ],
      "metadata": {
        "colab": {
          "base_uri": "https://localhost:8080/"
        },
        "id": "XMompHtZ3X2O",
        "outputId": "4b81be85-882b-4f66-9233-fa97279ad0d6"
      },
      "execution_count": null,
      "outputs": [
        {
          "output_type": "stream",
          "name": "stdout",
          "text": [
            "64\n"
          ]
        }
      ]
    },
    {
      "cell_type": "code",
      "source": [
        "#IF STATEMENTS\n",
        "\n",
        "#IF ELIF ELSE\n",
        "\n",
        "#IF ELSE\n",
        "\n"
      ],
      "metadata": {
        "id": "kIG07oRY6WeB"
      },
      "execution_count": null,
      "outputs": []
    },
    {
      "cell_type": "code",
      "source": [
        "def max_num(num1,num2,num3):\n",
        "  if num1 >= num2 and num1 >= num3:\n",
        "    return num1\n",
        "  elif num2 >= num1 and num2 >=num3:\n",
        "    return num2\n",
        "  else:\n",
        "    return num3\n",
        "\n",
        "print(max_num(300,40,5))\n"
      ],
      "metadata": {
        "colab": {
          "base_uri": "https://localhost:8080/"
        },
        "id": "J4gWGcztRfPz",
        "outputId": "9766c3d5-5041-4210-bb77-8706d6ae9c95"
      },
      "execution_count": null,
      "outputs": [
        {
          "output_type": "stream",
          "name": "stdout",
          "text": [
            "300\n"
          ]
        }
      ]
    },
    {
      "cell_type": "code",
      "source": [
        "#better calc\n",
        "num1 = float(input(\"enter first number: \"))\n",
        "op = input(\"enter operator: \")\n",
        "num2 = float(input(\"enter first number: \"))\n",
        "\n",
        "if op== \"+\":\n",
        "  print(num1+num2)\n",
        "elif op== \"-\":\n",
        "  print(num1-num2)\n",
        "elif op==\"/\":\n",
        "  print(num1/num2)\n",
        "elif op==\"*\":\n",
        "  print(num1*num2)\n",
        "else:\n",
        "  print(\"invalid\")"
      ],
      "metadata": {
        "colab": {
          "base_uri": "https://localhost:8080/"
        },
        "id": "PNNSzwKAScVc",
        "outputId": "0eaf6a13-a193-4db5-936d-522b2c4dc3b5"
      },
      "execution_count": null,
      "outputs": [
        {
          "output_type": "stream",
          "name": "stdout",
          "text": [
            "enter first number: 5\n",
            "enter operator: *\n",
            "enter first number: 8\n",
            "40.0\n"
          ]
        }
      ]
    },
    {
      "cell_type": "code",
      "source": [
        "#dictionaries\n",
        "#key value pairs\n",
        "\n",
        "monthConversions = {\n",
        "    \"Jan\":\"January\",\n",
        "    \"feb\":\"february\"\n",
        "}\n",
        "print(monthConversions[\"Jan\"])\n"
      ],
      "metadata": {
        "colab": {
          "base_uri": "https://localhost:8080/"
        },
        "id": "kfFo88UrUU4p",
        "outputId": "1f120528-25b1-4531-dd1d-0c8f5d42b3ef"
      },
      "execution_count": null,
      "outputs": [
        {
          "output_type": "stream",
          "name": "stdout",
          "text": [
            "January\n"
          ]
        }
      ]
    },
    {
      "cell_type": "code",
      "source": [
        "#while loop\n",
        "\n",
        "i=1\n",
        "while i<=10:\n",
        "  print(i)\n",
        "  i+=1"
      ],
      "metadata": {
        "colab": {
          "base_uri": "https://localhost:8080/"
        },
        "id": "pFLi5BubYVRf",
        "outputId": "9a343f9c-511b-432d-a7ee-51d1b188393f"
      },
      "execution_count": null,
      "outputs": [
        {
          "output_type": "stream",
          "name": "stdout",
          "text": [
            "1\n",
            "2\n",
            "3\n",
            "4\n",
            "5\n",
            "6\n",
            "7\n",
            "8\n",
            "9\n",
            "10\n"
          ]
        }
      ]
    },
    {
      "cell_type": "code",
      "source": [
        "#guessing game\n",
        "secret_word = \"giraffe\"\n",
        "guess = \"\"\n",
        "guess_count = 0\n",
        "guess_limit = 3\n",
        "out_of_guesses = False\n",
        "\n",
        "\n",
        "while guess != secret_word:\n",
        "  if guess_count<guess_limit:\n",
        "    guess = input(\"enter guess: \")\n",
        "    guess_count += 1\n",
        "  else:\n",
        "    out_of_guesses=True\n",
        "\n",
        "if out_of_guesses:\n",
        "  print(\"you lose\")\n",
        "else:\n",
        "  print(\"you win\")"
      ],
      "metadata": {
        "colab": {
          "base_uri": "https://localhost:8080/",
          "height": 245
        },
        "id": "yEmOYC_YYDlt",
        "outputId": "d13a634e-f2a4-4561-902c-6abd5e2aa539"
      },
      "execution_count": null,
      "outputs": [
        {
          "output_type": "error",
          "ename": "KeyboardInterrupt",
          "evalue": "ignored",
          "traceback": [
            "\u001b[0;31m---------------------------------------------------------------------------\u001b[0m",
            "\u001b[0;31mKeyboardInterrupt\u001b[0m                         Traceback (most recent call last)",
            "\u001b[0;32m<ipython-input-14-39d03764619f>\u001b[0m in \u001b[0;36m<cell line: 9>\u001b[0;34m()\u001b[0m\n\u001b[1;32m      8\u001b[0m \u001b[0;34m\u001b[0m\u001b[0m\n\u001b[1;32m      9\u001b[0m \u001b[0;32mwhile\u001b[0m \u001b[0mguess\u001b[0m \u001b[0;34m!=\u001b[0m \u001b[0msecret_word\u001b[0m\u001b[0;34m:\u001b[0m\u001b[0;34m\u001b[0m\u001b[0;34m\u001b[0m\u001b[0m\n\u001b[0;32m---> 10\u001b[0;31m   \u001b[0;32mif\u001b[0m \u001b[0mguess_count\u001b[0m\u001b[0;34m<\u001b[0m\u001b[0mguess_limit\u001b[0m\u001b[0;34m:\u001b[0m\u001b[0;34m\u001b[0m\u001b[0;34m\u001b[0m\u001b[0m\n\u001b[0m\u001b[1;32m     11\u001b[0m     \u001b[0mguess\u001b[0m \u001b[0;34m=\u001b[0m \u001b[0minput\u001b[0m\u001b[0;34m(\u001b[0m\u001b[0;34m\"enter guess: \"\u001b[0m\u001b[0;34m)\u001b[0m\u001b[0;34m\u001b[0m\u001b[0;34m\u001b[0m\u001b[0m\n\u001b[1;32m     12\u001b[0m     \u001b[0mguess_count\u001b[0m \u001b[0;34m+=\u001b[0m \u001b[0;36m1\u001b[0m\u001b[0;34m\u001b[0m\u001b[0;34m\u001b[0m\u001b[0m\n",
            "\u001b[0;31mKeyboardInterrupt\u001b[0m: "
          ]
        }
      ]
    },
    {
      "cell_type": "code",
      "source": [
        "#for loops\n",
        "for letter in \"giraffe\":\n",
        "  print(letter)"
      ],
      "metadata": {
        "id": "q3Fr1XeSZry5"
      },
      "execution_count": null,
      "outputs": []
    },
    {
      "cell_type": "code",
      "source": [
        "friends = [\"jim\",\"karen\",\"kevin\"]\n",
        "for index in range(len(friends)):\n",
        "  print(index)"
      ],
      "metadata": {
        "colab": {
          "base_uri": "https://localhost:8080/"
        },
        "id": "3dnBv7nFspb8",
        "outputId": "7db43273-ef7c-47ed-ec75-eb8fdea1df9e"
      },
      "execution_count": null,
      "outputs": [
        {
          "output_type": "stream",
          "name": "stdout",
          "text": [
            "0\n",
            "1\n",
            "2\n"
          ]
        }
      ]
    },
    {
      "cell_type": "code",
      "source": [
        "friends = [\"jim\",\"karen\",\"kevin\"]\n",
        "\n",
        "for index in range(5):\n",
        "  if index==0:\n",
        "    print(\"first iteration\")\n",
        "  else:\n",
        "    print(\"not first\")\n",
        "\n",
        "\n"
      ],
      "metadata": {
        "colab": {
          "base_uri": "https://localhost:8080/"
        },
        "id": "YjEFl5A4v1R5",
        "outputId": "1fa02d95-4ac1-4ba3-82ef-7bb3e2ae53e6"
      },
      "execution_count": null,
      "outputs": [
        {
          "output_type": "stream",
          "name": "stdout",
          "text": [
            "first iteration\n",
            "not first\n",
            "not first\n",
            "not first\n",
            "not first\n"
          ]
        }
      ]
    },
    {
      "cell_type": "code",
      "source": [
        "#exponent function\n",
        "print(2**3)"
      ],
      "metadata": {
        "colab": {
          "base_uri": "https://localhost:8080/"
        },
        "id": "_MSWxZkxwVQ_",
        "outputId": "943dc0df-7bf2-443f-d142-ead166752378"
      },
      "execution_count": null,
      "outputs": [
        {
          "output_type": "stream",
          "name": "stdout",
          "text": [
            "8\n"
          ]
        }
      ]
    },
    {
      "cell_type": "code",
      "source": [
        "def raise_to_power(base_num, pow_num):\n",
        "  result = 1\n",
        "  for index in range(pow_num):\n",
        "    result = result * base_num\n",
        "  return result\n",
        "\n",
        "\n",
        "print(raise_to_power(3,4))\n"
      ],
      "metadata": {
        "colab": {
          "base_uri": "https://localhost:8080/"
        },
        "id": "oDzGvMIRwVNh",
        "outputId": "8433bb86-8779-431b-eab7-69ca0630cd0e"
      },
      "execution_count": null,
      "outputs": [
        {
          "output_type": "stream",
          "name": "stdout",
          "text": [
            "81\n"
          ]
        }
      ]
    },
    {
      "cell_type": "code",
      "source": [
        "#2d lists and nested loops\n",
        "number_grid = [\n",
        "    [1,2,3],\n",
        "    [4,5,6],\n",
        "    [7,8,9],\n",
        "    [0]\n",
        "]\n",
        "print(number_grid[3][0])"
      ],
      "metadata": {
        "colab": {
          "base_uri": "https://localhost:8080/"
        },
        "id": "Fq2kiMPgxSzS",
        "outputId": "0a9911a5-0d4d-4ec7-af35-c38da5285310"
      },
      "execution_count": null,
      "outputs": [
        {
          "output_type": "stream",
          "name": "stdout",
          "text": [
            "0\n"
          ]
        }
      ]
    },
    {
      "cell_type": "code",
      "source": [
        "#nested for loop\n",
        "for row in number_grid:\n",
        "  for column in row:\n",
        "    print(column)"
      ],
      "metadata": {
        "colab": {
          "base_uri": "https://localhost:8080/"
        },
        "id": "NhXSNNsUzNfy",
        "outputId": "7829bdde-59dc-4dcd-dba6-5e510298548d"
      },
      "execution_count": null,
      "outputs": [
        {
          "output_type": "stream",
          "name": "stdout",
          "text": [
            "1\n",
            "2\n",
            "3\n",
            "4\n",
            "5\n",
            "6\n",
            "7\n",
            "8\n",
            "9\n",
            "0\n"
          ]
        }
      ]
    },
    {
      "cell_type": "code",
      "source": [
        "#build a translator\n",
        "def translate(phrase):\n",
        "  translation = \"\"\n",
        "  for letter in phrase:\n",
        "    if letter in \"AEIOUaeiou\":\n",
        "      translation = translation + \"g\"\n",
        "    else:\n",
        "      translation = translation + letter\n",
        "      return translation\n",
        "\n",
        "      print(translate(input(\"enter phrase\")))"
      ],
      "metadata": {
        "id": "Wg3JYcZ_zhSm"
      },
      "execution_count": null,
      "outputs": []
    },
    {
      "cell_type": "code",
      "source": [
        "#try except\n",
        "try:\n",
        "  number = int(input(\"enter a number\"))\n",
        "  print(number)\n",
        "except:0+\n",
        "  print(\"Invalid input\")"
      ],
      "metadata": {
        "colab": {
          "base_uri": "https://localhost:8080/"
        },
        "id": "lthpj0pm00qX",
        "outputId": "71ab2fc6-adc5-4cd4-e4c9-d818eaf88b77"
      },
      "execution_count": null,
      "outputs": [
        {
          "output_type": "stream",
          "name": "stdout",
          "text": [
            "enter a numberwe\n",
            "Invalid input\n"
          ]
        }
      ]
    },
    {
      "cell_type": "code",
      "source": [
        "#reading files\n",
        "employee=open(\"to do.txt\",\"r\")\n",
        "print(employee.readlines())#inside an arrayy\n",
        "employee.close()\n",
        "\n"
      ],
      "metadata": {
        "colab": {
          "base_uri": "https://localhost:8080/"
        },
        "id": "ItPM9xHQ1-Al",
        "outputId": "c587a8a7-3be5-4cb0-efc9-6fbc696e2729"
      },
      "execution_count": null,
      "outputs": [
        {
          "output_type": "stream",
          "name": "stdout",
          "text": [
            "['embedded systems:\\n', 'chapter 1 complete\\n', 'chapter 2 \\n', 'chapter 3 \\n', '\\n', 'python tutorial complete\\n', '\\n', 'humanities ppt prep\\n', '\\n', '\\n']\n"
          ]
        }
      ]
    },
    {
      "cell_type": "code",
      "source": [
        "#writing to files\n",
        "employee=open(\"to do.txt\",\"a\")\n",
        "employee.write(\"toby\")\n",
        "\n",
        "employee.close()\n"
      ],
      "metadata": {
        "id": "TXLWtgj13oTE"
      },
      "execution_count": null,
      "outputs": []
    },
    {
      "cell_type": "code",
      "source": [
        "#classes and objects\n",
        "class student:\n",
        "\n",
        "  def __init__(self,name,major,gpa,is_on_probation):\n",
        "    self.name = name\n",
        "    self.major = major\n",
        "    self.gpa = gpa\n",
        "    self.is_on_probation=is_on_probation\n",
        "\n",
        "student1=student(\"jim\",\"bussiness\",3.1,False)\n",
        "print(student1)\n"
      ],
      "metadata": {
        "id": "PC2PvkgI3pis",
        "colab": {
          "base_uri": "https://localhost:8080/"
        },
        "outputId": "5d3cc5d5-c0f2-4d5a-c921-a72910d309ce"
      },
      "execution_count": 13,
      "outputs": [
        {
          "output_type": "stream",
          "name": "stdout",
          "text": [
            "<__main__.student object at 0x7a54bae153f0>\n"
          ]
        }
      ]
    },
    {
      "cell_type": "code",
      "source": [
        "#building a multiple choice quiz\n"
      ],
      "metadata": {
        "id": "ubgIlQerAz9z"
      },
      "execution_count": 13,
      "outputs": []
    },
    {
      "cell_type": "code",
      "source": [
        "#class functions\n",
        "class student:\n",
        "\n",
        "  def __init__(self,name,major,gpa):\n",
        "    self.name = name\n",
        "    self.major = major\n",
        "    self.gpa = gpa\n",
        "\n",
        "    student1=student(\"jim\",\"bussiness\",3.1,False)\n",
        "\n",
        "    def on_honor_roll(self):\n",
        "      if self.gpa >= 3.5:\n",
        "        return True\n",
        "      else:\n",
        "        return False\n",
        "\n",
        "\n",
        "        print(student1.on_honor_roll())\n",
        "\n"
      ],
      "metadata": {
        "id": "fpgFiLkEOPKK"
      },
      "execution_count": 15,
      "outputs": []
    },
    {
      "cell_type": "code",
      "source": [
        "#inheritence in python\n",
        "\n",
        "\n"
      ],
      "metadata": {
        "id": "csP511HLO0Wy"
      },
      "execution_count": null,
      "outputs": []
    }
  ]
}